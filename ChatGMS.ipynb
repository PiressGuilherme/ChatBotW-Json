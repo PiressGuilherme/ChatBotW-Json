{
  "cells": [
    {
      "cell_type": "markdown",
      "source": [
        "# ChatGMS: Chatbot com Banco de Conhecimento em JSON 😎"
      ],
      "metadata": {
        "id": "nq3WOaXeW3de"
      },
      "id": "nq3WOaXeW3de"
    },
    {
      "cell_type": "code",
      "execution_count": null,
      "id": "33bdb39f",
      "metadata": {
        "id": "33bdb39f"
      },
      "outputs": [],
      "source": [
        "import json\n",
        "from difflib import get_close_matches"
      ]
    },
    {
      "cell_type": "code",
      "source": [
        "def carregarconhecimento(file_path: str) -> dict:\n",
        "  with open(file_path, 'r') as file:\n",
        "    data: dict = json.load(file)\n",
        "  return data\n",
        "\n",
        "def salvarconhecimento(file_path: str, data: dict):\n",
        "  with open(file_path, 'w') as file:\n",
        "    json.dump(data, file, indent=2)\n",
        "\n",
        "def identifica_melhor(user_question: str, perguntas: list[str]) -> str | None:\n",
        "  matches: list = get_close_matches(user_question, perguntas, n=1, cutoff=0.5)\n",
        "  return matches[0] if matches else None\n",
        "\n",
        "def resposta_para_pergunta(pergunta: str, base_conhecimento: dict) -> str | None:\n",
        "  for q in base_conhecimento[\"perguntas\"]:\n",
        "    if q[\"pergunta\"] == pergunta:\n",
        "      return q[\"resposta\"]\n",
        "\n",
        "def chat_bot():\n",
        "  # ADICIONAR CAMINHO JSON\n",
        "  base_conhecimento: dict = carregarconhecimento('Base_de_conhecimento.json')\n",
        "  print(\"Bot: Olá, eu sou o ChatGMS, como eu posso te ajudar? :D\\n     Escreva sua pergunta ou digite SAIR para encerrar a sessão.\")\n",
        "\n",
        "  while True:\n",
        "    user_input: str = input('\\nVocê: ')\n",
        "\n",
        "    if user_input.lower() == \"sair\":\n",
        "      print(\"\\nBot: Tchauzinho! Se tiver mais perguntas no futuro ou precisar de ajuda, não hesite em voltar. Tenha um ótimo dia! :D\")\n",
        "      break\n",
        "\n",
        "    melhor_resposta: str | None = identifica_melhor(user_input, [q[\"pergunta\"] for q in base_conhecimento[\"perguntas\"]])\n",
        "\n",
        "    if melhor_resposta:\n",
        "      answer: str = resposta_para_pergunta(melhor_resposta, base_conhecimento)\n",
        "      print(f'\\nBot: {answer}')\n",
        "    else:\n",
        "      print('\\nBot: Sinto muito, eu não sei a resposta, você poderia me ensinar?')\n",
        "      new_answer: str = input('     Acrescente uma resposta à base de conhecimento ou digite PULAR para continuar.\\n\\nVocê: ')\n",
        "\n",
        "      if new_answer.lower() != 'pular':\n",
        "        base_conhecimento[\"perguntas\"].append({\"pergunta\": user_input, \"resposta\": new_answer})\n",
        "\n",
        "        # ADICIONAR CAMINHO JSON\n",
        "        salvarconhecimento('Base_de_conhecimento.json', base_conhecimento)\n",
        "        print('\\nBot: Muito obrigado, aprendi algo novo! :D')\n",
        "      else:\n",
        "        print('\\nBot: Você pulou o aprendizado, insira uma pergunta.')"
      ],
      "metadata": {
        "id": "jgxILZsKXLzz"
      },
      "id": "jgxILZsKXLzz",
      "execution_count": null,
      "outputs": []
    },
    {
      "cell_type": "code",
      "execution_count": null,
      "id": "51f084e2",
      "metadata": {
        "scrolled": false,
        "id": "51f084e2"
      },
      "outputs": [],
      "source": [
        "chat_bot()"
      ]
    }
  ],
  "metadata": {
    "kernelspec": {
      "display_name": "Python 3 (ipykernel)",
      "language": "python",
      "name": "python3"
    },
    "language_info": {
      "codemirror_mode": {
        "name": "ipython",
        "version": 3
      },
      "file_extension": ".py",
      "mimetype": "text/x-python",
      "name": "python",
      "nbconvert_exporter": "python",
      "pygments_lexer": "ipython3",
      "version": "3.11.4"
    },
    "colab": {
      "provenance": []
    }
  },
  "nbformat": 4,
  "nbformat_minor": 5
}