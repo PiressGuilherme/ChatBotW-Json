{
  "nbformat": 4,
  "nbformat_minor": 0,
  "metadata": {
    "colab": {
      "provenance": []
    },
    "kernelspec": {
      "name": "python3",
      "display_name": "Python 3"
    },
    "language_info": {
      "name": "python"
    }
  },
  "cells": [
    {
      "cell_type": "code",
      "source": [
        "import json\n",
        "from difflib import get_close_matches"
      ],
      "metadata": {
        "id": "4Rm8TR60FBmS"
      },
      "execution_count": 1,
      "outputs": []
    },
    {
      "cell_type": "code",
      "execution_count": 4,
      "metadata": {
        "id": "IkvlM8LDE7wy"
      },
      "outputs": [],
      "source": [
        "def carregar_conhecimento(file_path: str) -> dict:\n",
        "    \"\"\"Carrega o arquivo JSON com a base de conhecimento.\"\"\"\n",
        "    with open(file_path, 'r') as file:\n",
        "        data: dict = json.load(file)\n",
        "    return data\n",
        "\n",
        "def salvar_conhecimento(file_path: str, data: dict):\n",
        "    \"\"\"Salva a base de conhecimento em um arquivo JSON.\"\"\"\n",
        "    with open(file_path, 'w') as file:\n",
        "        json.dump(data, file, indent=2)\n",
        "\n",
        "def identifica_melhor(user_question: str, perguntas: list[str]) -> str | None:\n",
        "    \"\"\"\n",
        "    Identifica a melhor pergunta correspondente à pergunta do usuário\n",
        "    na lista de perguntas da base de conhecimento.\n",
        "    \"\"\"\n",
        "    matches: list = get_close_matches(user_question, perguntas, n=1, cutoff=0.5)\n",
        "    return matches[0] if matches else None\n",
        "\n",
        "def resposta_para_pergunta(pergunta: str, base_conhecimento: dict) -> str | None:\n",
        "    \"\"\"\n",
        "    Retorna a resposta correspondente à pergunta na base de conhecimento.\n",
        "    \"\"\"\n",
        "    for q in base_conhecimento[\"perguntas\"]:\n",
        "        if q[\"pergunta\"] == pergunta:\n",
        "            return q[\"resposta\"]\n",
        "\n",
        "def chat_bot():\n",
        "    # Carregar base de conhecimento\n",
        "    base_conhecimento: dict = carregar_conhecimento('Base_de_conhecimento.json')\n",
        "    print(\"Bot: Olá, eu sou o ChatGMS, como eu posso te ajudar? :D\\n     Escreva sua pergunta ou digite SAIR para encerrar a sessão.\")\n",
        "\n",
        "    while True:\n",
        "        user_input: str = input('\\nVocê: ')\n",
        "\n",
        "        if user_input.lower() == \"sair\":\n",
        "            print(\"\\nBot: Tchauzinho! Se tiver mais perguntas no futuro ou precisar de ajuda, não hesite em voltar. Tenha um ótimo dia! :D\")\n",
        "            break\n",
        "\n",
        "        melhor_resposta: str | None = identifica_melhor(user_input, [q[\"pergunta\"] for q in base_conhecimento[\"perguntas\"]])\n",
        "\n",
        "        if melhor_resposta:\n",
        "            answer: str = resposta_para_pergunta(melhor_resposta, base_conhecimento)\n",
        "            print(f'\\nBot: {answer}')\n",
        "        else:\n",
        "            print('\\nBot: Sinto muito, eu não sei a resposta, você poderia me ensinar?')\n",
        "            new_answer: str = input('     Acrescente uma resposta à base de conhecimento ou digite PULAR para continuar.\\n\\nVocê: ')\n",
        "\n",
        "            if new_answer.lower() != 'pular':\n",
        "                base_conhecimento[\"perguntas\"].append({\"pergunta\": user_input, \"resposta\": new_answer})\n",
        "\n",
        "                # Salvar a nova pergunta na base de conhecimento\n",
        "                salvar_conhecimento('Base_de_conhecimento.json', base_conhecimento)\n",
        "                print('\\nBot: Muito obrigado, aprendi algo novo! :D')\n",
        "            else:\n",
        "                print('\\nBot: Você pulou o aprendizado, insira uma pergunta.')"
      ]
    },
    {
      "cell_type": "code",
      "source": [
        "chat_bot()"
      ],
      "metadata": {
        "colab": {
          "base_uri": "https://localhost:8080/"
        },
        "id": "8aJBF1GzFDmY",
        "outputId": "7ed49a02-4a54-4530-b331-c6158431bd48"
      },
      "execution_count": 5,
      "outputs": [
        {
          "output_type": "stream",
          "name": "stdout",
          "text": [
            "Bot: Olá, eu sou o ChatGMS, como eu posso te ajudar? :D\n",
            "     Escreva sua pergunta ou digite SAIR para encerrar a sessão.\n",
            "\n",
            "Você: sair\n",
            "\n",
            "Bot: Tchauzinho! Se tiver mais perguntas no futuro ou precisar de ajuda, não hesite em voltar. Tenha um ótimo dia! :D\n"
          ]
        }
      ]
    }
  ]
}